{
  "nbformat": 4,
  "nbformat_minor": 0,
  "metadata": {
    "colab": {
      "name": "Assignment2_Okhapkina.ipynb",
      "provenance": [],
      "authorship_tag": "ABX9TyO9DrHwGbGKgiHJFnADKk8v",
      "include_colab_link": true
    },
    "kernelspec": {
      "name": "python3",
      "display_name": "Python 3"
    }
  },
  "cells": [
    {
      "cell_type": "markdown",
      "metadata": {
        "id": "view-in-github",
        "colab_type": "text"
      },
      "source": [
        "<a href=\"https://colab.research.google.com/github/eischaire/ML_4year/blob/master/Assignment2_Okhapkina.ipynb\" target=\"_parent\"><img src=\"https://colab.research.google.com/assets/colab-badge.svg\" alt=\"Open In Colab\"/></a>"
      ]
    },
    {
      "cell_type": "markdown",
      "metadata": {
        "id": "_G1P9k18o93m",
        "colab_type": "text"
      },
      "source": [
        "# Assignment 2\n",
        "\n",
        "Anna Okhapkina"
      ]
    },
    {
      "cell_type": "code",
      "metadata": {
        "id": "cWXyBduiVSsl",
        "colab_type": "code",
        "colab": {}
      },
      "source": [
        "from sklearn.model_selection import train_test_split, GridSearchCV\n",
        "from sklearn.linear_model import LogisticRegression\n",
        "from sklearn.neighbors import KNeighborsClassifier\n",
        "from sklearn.metrics import log_loss, make_scorer\n",
        "# from collections import defaultdict"
      ],
      "execution_count": 0,
      "outputs": []
    },
    {
      "cell_type": "markdown",
      "metadata": {
        "id": "VP48d2o6pHak",
        "colab_type": "text"
      },
      "source": [
        "## Defining GridSearchCV + useful fuctions and variables"
      ]
    },
    {
      "cell_type": "code",
      "metadata": {
        "id": "ejZy41DfCTl2",
        "colab_type": "code",
        "colab": {}
      },
      "source": [
        "elem_in_class = 40 "
      ],
      "execution_count": 0,
      "outputs": []
    },
    {
      "cell_type": "code",
      "metadata": {
        "id": "8Go5DwNHAI4l",
        "colab_type": "code",
        "colab": {}
      },
      "source": [
        "def accuracy(y_true, y_pred):\n",
        "  y_pred = list(y_pred)\n",
        "  n = len(y_true)\n",
        "  shots = 0\n",
        "  for i in range(n):\n",
        "    shots += int(y_pred[i] == y_true[i])\n",
        "  return shots / n"
      ],
      "execution_count": 0,
      "outputs": []
    },
    {
      "cell_type": "code",
      "metadata": {
        "id": "C1hlqOlhC4FS",
        "colab_type": "code",
        "colab": {}
      },
      "source": [
        "def crossvalidate_knn(X_train, y_train, X_test, y_test, metric='minkowski'):\n",
        "  \"\"\"\n",
        "  does grid search + CV for k-NN hyperparams, fits the model with the best ones\n",
        "\n",
        "  :param neigh: KNeigborsClassifier instance\n",
        "  :param X_train: list of lists of integers\n",
        "  :param y_train: list of integers\n",
        "\n",
        "  :return: accuracy for the best model\n",
        "  \"\"\"\n",
        "  params = {'n_neighbors': list(range(1, neigh_lim))}\n",
        "  neigh = KNeighborsClassifier(metric=metric)\n",
        "  gs_knn = GridSearchCV(neigh, params, return_train_score=True, scoring=make_scorer(log_loss, greater_is_better=False))\n",
        "  gs_knn.fit(X_train, y_train)\n",
        "  best_n_neigh = gs_knn.best_params_['n_neighbors']\n",
        "  print('Best n_neighbors param: {}'.format(best_n_neigh))\n",
        "  neigh = KNeighborsClassifier(n_neighbors=best_n_neigh, metric=metric)\n",
        "  neigh.fit(X_train, y_train)\n",
        "  y_pred = neigh.predict(X_test)\n",
        "  return accuracy(y_test, y_pred)"
      ],
      "execution_count": 0,
      "outputs": []
    },
    {
      "cell_type": "code",
      "metadata": {
        "id": "qlC7M2WtIbbq",
        "colab_type": "code",
        "colab": {}
      },
      "source": [
        "def crossvalidate_lr(X_train, y_train, X_test, y_test, random_state=42):\n",
        "  params = {\n",
        "            # 'penalty': ['l1', 'l2', 'elasticnet', 'none'], \n",
        "            'C': [(int(0.1 * i * 100) / 100) for i in range(1, 11)], # see next two cells\n",
        "            'fit_intercept': [True, False],\n",
        "            # 'l1_ratio': [(int(0.1 * i * 100) / 100) for i in range(1, 11)]\n",
        "            }\n",
        "  lr = LogisticRegression(solver='liblinear', multi_class='ovr', random_state=random_state) # liblinear because I train the model on a small dataset\n",
        "  gs_lr = GridSearchCV(lr, params, return_train_score=True, scoring=make_scorer(log_loss, greater_is_better=False))\n",
        "  gs_lr.fit(X_train, y_train)\n",
        "  best_params = gs_lr.best_params_\n",
        "  print('Best param: {}'.format(best_params))\n",
        "  lr = LogisticRegression(C=best_params['C'], fit_intercept=best_params['fit_intercept'], random_state=random_state)\n",
        "  lr.fit(X_train, y_train)\n",
        "  y_pred = lr.predict(X_test)\n",
        "  return accuracy(y_test, y_pred)"
      ],
      "execution_count": 0,
      "outputs": []
    },
    {
      "cell_type": "code",
      "metadata": {
        "id": "5SXRZ3UIpp6n",
        "colab_type": "code",
        "colab": {
          "base_uri": "https://localhost:8080/",
          "height": 187
        },
        "outputId": "2e13f74d-2d89-41d0-d7ee-b488d94c86dc"
      },
      "source": [
        "[0.1 * i for i in range(1, 11)]"
      ],
      "execution_count": 74,
      "outputs": [
        {
          "output_type": "execute_result",
          "data": {
            "text/plain": [
              "[0.1,\n",
              " 0.2,\n",
              " 0.30000000000000004,\n",
              " 0.4,\n",
              " 0.5,\n",
              " 0.6000000000000001,\n",
              " 0.7000000000000001,\n",
              " 0.8,\n",
              " 0.9,\n",
              " 1.0]"
            ]
          },
          "metadata": {
            "tags": []
          },
          "execution_count": 74
        }
      ]
    },
    {
      "cell_type": "code",
      "metadata": {
        "id": "JQ6MllRCs293",
        "colab_type": "code",
        "outputId": "ec405874-c441-488c-97e0-f651f9a3b4c1",
        "colab": {
          "base_uri": "https://localhost:8080/",
          "height": 34
        }
      },
      "source": [
        "[(int(0.1 * i * 100) / 100) for i in range(1, 11)]"
      ],
      "execution_count": 75,
      "outputs": [
        {
          "output_type": "execute_result",
          "data": {
            "text/plain": [
              "[0.1, 0.2, 0.3, 0.4, 0.5, 0.6, 0.7, 0.8, 0.9, 1.0]"
            ]
          },
          "metadata": {
            "tags": []
          },
          "execution_count": 75
        }
      ]
    },
    {
      "cell_type": "markdown",
      "metadata": {
        "id": "_DP-TI8LxNcF",
        "colab_type": "text"
      },
      "source": [
        "## Task 1. k-NN worse than LR"
      ]
    },
    {
      "cell_type": "code",
      "metadata": {
        "id": "6B9dSaj7d8S-",
        "colab_type": "code",
        "colab": {}
      },
      "source": [
        "X1 = [[0,0]]\n",
        "first_par = 0\n",
        "sec_par = 0\n",
        "for i in range(1, elem_in_class * 2):\n",
        "   first_par += i\n",
        "   if i % 2 > 0:\n",
        "     sec_par += 1\n",
        "   pos = (-1) ** (i % 2 + 1)\n",
        "   X1.append([first_par, sec_par * pos])\n",
        "\n",
        "y1 = [1, 0] * elem_in_class\n",
        "X1_train, X1_test, y1_train, y1_test = train_test_split(X1, y1, random_state=42)\n",
        "neigh_lim = min(len(X1_train), len(X1_test)) + 1\n",
        "neigh_lim"
      ],
      "execution_count": 0,
      "outputs": []
    },
    {
      "cell_type": "markdown",
      "metadata": {
        "id": "JKIhtPUNhbHh",
        "colab_type": "text"
      },
      "source": [
        "The Euclicdean distance between elements of the same class and elements of different classes is not dependent on classes at all, so k-NN models with Euclidean distance and Minkowski's metric show low performance. \n",
        "\n",
        "On the contrary, the x1 (from input params [x0, x1]) will have much weight in LR model, so that it can make a right decision."
      ]
    },
    {
      "cell_type": "code",
      "metadata": {
        "id": "eOtjFLpxCNq0",
        "colab_type": "code",
        "colab": {
          "base_uri": "https://localhost:8080/",
          "height": 51
        },
        "outputId": "3907f9fe-be39-46ee-c661-bce0bbf76a87"
      },
      "source": [
        "crossvalidate_knn(X1_train, y1_train, X1_test, y1_test, metric='euclidean')"
      ],
      "execution_count": 302,
      "outputs": [
        {
          "output_type": "stream",
          "text": [
            "Best n_neighbors param: 17\n"
          ],
          "name": "stdout"
        },
        {
          "output_type": "execute_result",
          "data": {
            "text/plain": [
              "0.3"
            ]
          },
          "metadata": {
            "tags": []
          },
          "execution_count": 302
        }
      ]
    },
    {
      "cell_type": "code",
      "metadata": {
        "id": "6NIa2rqVCN_m",
        "colab_type": "code",
        "colab": {
          "base_uri": "https://localhost:8080/",
          "height": 51
        },
        "outputId": "890e4e08-0bca-4b05-bfa7-87262b83cefc"
      },
      "source": [
        "crossvalidate_knn(X1_train, y1_train, X1_test, y1_test)"
      ],
      "execution_count": 303,
      "outputs": [
        {
          "output_type": "stream",
          "text": [
            "Best n_neighbors param: 17\n"
          ],
          "name": "stdout"
        },
        {
          "output_type": "execute_result",
          "data": {
            "text/plain": [
              "0.3"
            ]
          },
          "metadata": {
            "tags": []
          },
          "execution_count": 303
        }
      ]
    },
    {
      "cell_type": "code",
      "metadata": {
        "id": "L7KmROZmCwNO",
        "colab_type": "code",
        "colab": {
          "base_uri": "https://localhost:8080/",
          "height": 51
        },
        "outputId": "02d2571c-9b72-474f-ef3c-465092adec86"
      },
      "source": [
        "crossvalidate_lr(X1_train, y1_train, X1_test, y1_test)"
      ],
      "execution_count": 304,
      "outputs": [
        {
          "output_type": "stream",
          "text": [
            "Best param: {'C': 0.1, 'fit_intercept': True}\n"
          ],
          "name": "stdout"
        },
        {
          "output_type": "execute_result",
          "data": {
            "text/plain": [
              "0.95"
            ]
          },
          "metadata": {
            "tags": []
          },
          "execution_count": 304
        }
      ]
    },
    {
      "cell_type": "markdown",
      "metadata": {
        "id": "MfxF_lyVjEWc",
        "colab_type": "text"
      },
      "source": [
        "The only k-NN model that LR could not overcome was the model with cosine distance"
      ]
    },
    {
      "cell_type": "code",
      "metadata": {
        "id": "mBjvmNMGCI9S",
        "colab_type": "code",
        "colab": {
          "base_uri": "https://localhost:8080/",
          "height": 51
        },
        "outputId": "713c72ed-af3d-4010-dad7-84d73ea854bd"
      },
      "source": [
        "crossvalidate_knn(X1_train, y1_train, X1_test, y1_test, metric='cosine')"
      ],
      "execution_count": 301,
      "outputs": [
        {
          "output_type": "stream",
          "text": [
            "Best n_neighbors param: 1\n"
          ],
          "name": "stdout"
        },
        {
          "output_type": "execute_result",
          "data": {
            "text/plain": [
              "0.95"
            ]
          },
          "metadata": {
            "tags": []
          },
          "execution_count": 301
        }
      ]
    },
    {
      "cell_type": "markdown",
      "metadata": {
        "id": "CavVkoip_FQp",
        "colab_type": "text"
      },
      "source": [
        "## Task 2. LR worse than k-NN"
      ]
    },
    {
      "cell_type": "code",
      "metadata": {
        "id": "6LAfWR9iwyga",
        "colab_type": "code",
        "colab": {
          "base_uri": "https://localhost:8080/",
          "height": 34
        },
        "outputId": "791a5a0c-c763-490e-df01-27b16e409850"
      },
      "source": [
        "X2 = [[i, i] for i in range(elem_in_class * 2)]\n",
        "y2 = [0] * (elem_in_class - int(elem_in_class / 2)) + [1] * elem_in_class + [0] * int(elem_in_class / 2)\n",
        "X2_train, X2_test, y2_train, y2_test = train_test_split(X2, y2, random_state=42)\n",
        "neigh_lim = min(len(X2_train), len(X2_test)) + 1\n",
        "neigh_lim"
      ],
      "execution_count": 331,
      "outputs": [
        {
          "output_type": "execute_result",
          "data": {
            "text/plain": [
              "21"
            ]
          },
          "metadata": {
            "tags": []
          },
          "execution_count": 331
        }
      ]
    },
    {
      "cell_type": "markdown",
      "metadata": {
        "id": "jd0nkx2yjhQZ",
        "colab_type": "text"
      },
      "source": [
        "One of the clusters is split, and its parts are lying around the second cluster. So, there is no dividing line and no right threshold for LR to make a decision."
      ]
    },
    {
      "cell_type": "code",
      "metadata": {
        "id": "hW2uv-NAl_n9",
        "colab_type": "code",
        "colab": {
          "base_uri": "https://localhost:8080/",
          "height": 51
        },
        "outputId": "9166e04b-ac57-4884-e854-c3635ef7f1c2"
      },
      "source": [
        "crossvalidate_knn(X2_train, y2_train, X2_test, y2_test, metric='cosine')"
      ],
      "execution_count": 332,
      "outputs": [
        {
          "output_type": "stream",
          "text": [
            "Best n_neighbors param: 4\n"
          ],
          "name": "stdout"
        },
        {
          "output_type": "execute_result",
          "data": {
            "text/plain": [
              "0.65"
            ]
          },
          "metadata": {
            "tags": []
          },
          "execution_count": 332
        }
      ]
    },
    {
      "cell_type": "code",
      "metadata": {
        "id": "Bomc5JQwmGFq",
        "colab_type": "code",
        "colab": {
          "base_uri": "https://localhost:8080/",
          "height": 51
        },
        "outputId": "fcff2649-2880-4211-d069-22c50e0affd6"
      },
      "source": [
        "crossvalidate_knn(X2_train, y2_train, X2_test, y2_test, metric='euclidean')"
      ],
      "execution_count": 333,
      "outputs": [
        {
          "output_type": "stream",
          "text": [
            "Best n_neighbors param: 2\n"
          ],
          "name": "stdout"
        },
        {
          "output_type": "execute_result",
          "data": {
            "text/plain": [
              "1.0"
            ]
          },
          "metadata": {
            "tags": []
          },
          "execution_count": 333
        }
      ]
    },
    {
      "cell_type": "code",
      "metadata": {
        "id": "Lc5E9cgjmx_T",
        "colab_type": "code",
        "colab": {
          "base_uri": "https://localhost:8080/",
          "height": 51
        },
        "outputId": "cd35e7ba-0962-4b5d-c35b-1de68ea9c1f7"
      },
      "source": [
        "crossvalidate_knn(X2_train, y2_train, X2_test, y2_test)"
      ],
      "execution_count": 334,
      "outputs": [
        {
          "output_type": "stream",
          "text": [
            "Best n_neighbors param: 2\n"
          ],
          "name": "stdout"
        },
        {
          "output_type": "execute_result",
          "data": {
            "text/plain": [
              "1.0"
            ]
          },
          "metadata": {
            "tags": []
          },
          "execution_count": 334
        }
      ]
    },
    {
      "cell_type": "code",
      "metadata": {
        "id": "H0E5FrIym0AD",
        "colab_type": "code",
        "colab": {
          "base_uri": "https://localhost:8080/",
          "height": 51
        },
        "outputId": "628692c4-f991-4631-97c4-9eaacf50c078"
      },
      "source": [
        "crossvalidate_lr(X2_train, y2_train, X2_test, y2_test)"
      ],
      "execution_count": 335,
      "outputs": [
        {
          "output_type": "stream",
          "text": [
            "Best param: {'C': 0.1, 'fit_intercept': False}\n"
          ],
          "name": "stdout"
        },
        {
          "output_type": "execute_result",
          "data": {
            "text/plain": [
              "0.55"
            ]
          },
          "metadata": {
            "tags": []
          },
          "execution_count": 335
        }
      ]
    },
    {
      "cell_type": "markdown",
      "metadata": {
        "id": "GnWT6iGuwAjf",
        "colab_type": "text"
      },
      "source": [
        "## Task 3. Cosine distance k-NN better than Euclidean disctance k-NN"
      ]
    },
    {
      "cell_type": "code",
      "metadata": {
        "id": "cGyO_AENbBx3",
        "colab_type": "code",
        "colab": {
          "base_uri": "https://localhost:8080/",
          "height": 34
        },
        "outputId": "b93e5847-7f2f-46cb-c11c-9cc20b70cd84"
      },
      "source": [
        "ones = [[i, i+1] for i in range(elem_in_class)]\n",
        "zeros = [[j, j-1] for j in range(elem_in_class)]\n",
        "X3 = ones + zeros\n",
        "y3 = [1] * elem_in_class + [0] * elem_in_class\n",
        "X3_train, X3_test, y3_train, y3_test = train_test_split(X3, y3, random_state=42)\n",
        "neigh_lim = min(len(X3_train), len(X3_test)) + 1\n",
        "neigh_lim"
      ],
      "execution_count": 86,
      "outputs": [
        {
          "output_type": "execute_result",
          "data": {
            "text/plain": [
              "21"
            ]
          },
          "metadata": {
            "tags": []
          },
          "execution_count": 86
        }
      ]
    },
    {
      "cell_type": "markdown",
      "metadata": {
        "id": "BxqIdPOqoy08",
        "colab_type": "text"
      },
      "source": [
        "Due to positions of the whole classes on one line above or under the bisector, the angle between elements of the same class is always less than one between elements of different classes.\n",
        "\n",
        "So, if we are lucky enough and we meet elements of both classes in our train sample (we have to, actually), the nearest neighbors for every element in the test sample are always the elements of its actual class. "
      ]
    },
    {
      "cell_type": "code",
      "metadata": {
        "id": "bE4ffp88v6n4",
        "colab_type": "code",
        "outputId": "752f4841-c031-40b3-d8c3-5c0094523de6",
        "colab": {
          "base_uri": "https://localhost:8080/",
          "height": 51
        }
      },
      "source": [
        "crossvalidate_knn(X3_train, y3_train, X3_test, y3_test, metric='euclidean')"
      ],
      "execution_count": 87,
      "outputs": [
        {
          "output_type": "stream",
          "text": [
            "Best n_neighbors param: 1\n"
          ],
          "name": "stdout"
        },
        {
          "output_type": "execute_result",
          "data": {
            "text/plain": [
              "0.75"
            ]
          },
          "metadata": {
            "tags": []
          },
          "execution_count": 87
        }
      ]
    },
    {
      "cell_type": "code",
      "metadata": {
        "id": "kPmo7FquwvcV",
        "colab_type": "code",
        "outputId": "5c25a1bb-43f3-4b55-fbcc-00225085c09b",
        "colab": {
          "base_uri": "https://localhost:8080/",
          "height": 51
        }
      },
      "source": [
        "crossvalidate_knn(X3_train, y3_train, X3_test, y3_test, metric='cosine')"
      ],
      "execution_count": 88,
      "outputs": [
        {
          "output_type": "stream",
          "text": [
            "Best n_neighbors param: 1\n"
          ],
          "name": "stdout"
        },
        {
          "output_type": "execute_result",
          "data": {
            "text/plain": [
              "1.0"
            ]
          },
          "metadata": {
            "tags": []
          },
          "execution_count": 88
        }
      ]
    }
  ]
}